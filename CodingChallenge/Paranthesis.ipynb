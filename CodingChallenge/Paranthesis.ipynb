{
 "cells": [
  {
   "cell_type": "code",
   "execution_count": 35,
   "metadata": {
    "collapsed": false
   },
   "outputs": [
    {
     "name": "stdout",
     "output_type": "stream",
     "text": [
      "4\n",
      "()\n",
      "(())\n",
      "({){}}\n",
      "(({{}}))\n"
     ]
    }
   ],
   "source": [
    "par=[raw_input() for i in range(int(raw_input()))]"
   ]
  },
  {
   "cell_type": "code",
   "execution_count": 7,
   "metadata": {
    "collapsed": false
   },
   "outputs": [
    {
     "name": "stdout",
     "output_type": "stream",
     "text": [
      "3\n",
      "123\n",
      "123\n",
      "421\n"
     ]
    }
   ],
   "source": []
  },
  {
   "cell_type": "code",
   "execution_count": 39,
   "metadata": {
    "collapsed": false
   },
   "outputs": [
    {
     "name": "stdout",
     "output_type": "stream",
     "text": [
      "1\n",
      "(({{}}))\n",
      "YES\n"
     ]
    }
   ],
   "source": [
    "par=[raw_input() for i in range(int(raw_input()))]\n",
    "\n",
    "def swap(x):\n",
    "    if x==\")\" : return \"(\"\n",
    "    if x==\"]\" : return \"[\"\n",
    "    if x==\"}\" : return \"{\"\n",
    "\n",
    "def is_balanced(x):\n",
    "    if len(x)%2 == 1 : return 'NO'\n",
    "    else:\n",
    "        opened=[]\n",
    "        closed=[]\n",
    "        for paran in x:\n",
    "            if (paran==\"(\") | (paran==\"[\") | (paran==\"{\"):\n",
    "                opened.append(paran)\n",
    "            elif len(opened)==0 : return 'NO'\n",
    "            elif opened[-1] != swap(paran) : return 'NO'\n",
    "            else:\n",
    "                #del opened[-1]\n",
    "                opened.pop()\n",
    "        return 'YES' \n",
    "            \n",
    "for item in par :\n",
    "    print is_balanced(item)        \n",
    "    "
   ]
  },
  {
   "cell_type": "code",
   "execution_count": 36,
   "metadata": {
    "collapsed": false
   },
   "outputs": [
    {
     "name": "stdout",
     "output_type": "stream",
     "text": [
      "YES\n",
      "YES\n",
      "NO\n",
      "YES\n"
     ]
    }
   ],
   "source": [
    "            \n",
    "# Enter your code here. Read input from STDIN. Print output to STDOUT\n",
    "def is_matched(expr):\n",
    "    lefty = \"({[\"  # opening delimiters\n",
    "    righty = \")}]\" # respective closing delims\n",
    "    S = []\n",
    "    for c in expr:\n",
    "        if c in lefty:\n",
    "            S.append(c) # push left delimiter on stack\n",
    "        elif c in righty:\n",
    "            if not S:\n",
    "                return False # nothing to match with\n",
    "            if righty.index(c) != lefty.index(S.pop( )):\n",
    "                return False # mismatched\n",
    "            if not S:\n",
    "                return True\n",
    "        else:\n",
    "            return False\n",
    "​\n",
    "num_cases = int(input())\n",
    "while num_cases:\n",
    "  input_text = raw_input()\n",
    "  if (is_matched(input_text) == True):\n",
    "    print \"YES\"\n",
    "  else:\n",
    "    print \"NO\"\n",
    "  num_cases = num_cases -1"
   ]
  },
  {
   "cell_type": "code",
   "execution_count": 34,
   "metadata": {
    "collapsed": false
   },
   "outputs": [
    {
     "data": {
      "text/plain": [
       "'YES'"
      ]
     },
     "execution_count": 34,
     "metadata": {},
     "output_type": "execute_result"
    }
   ],
   "source": [
    "class Stack:\n",
    "    def __init__(self):\n",
    "        self.items = []\n",
    "        \n",
    "    def push(self,x):\n",
    "        self.items.append(x)\n",
    "        \n",
    "    def pop(self):\n",
    "        return self.items.pop()\n",
    "    \n",
    "    def last(self):\n",
    "        return self.items[len(self.items)-1]\n",
    "    \n",
    "    def size(self):\n",
    "        return len(self.items)\n",
    "    \n",
    "    def output(self):\n",
    "        print self.items\n",
    "    \n",
    "import sys\n",
    "y = raw_input()\n",
    "​\n",
    "def testLine(x):\n",
    "    s=Stack()\n",
    "    if len(x) % 2 == 1:\n",
    "        print \"NO\"\n",
    "    else:\n",
    "        for i in range(len(x)):\n",
    "            if x[i] == \"{\" or x[i] == \"(\" or x[i] == \"[\":\n",
    "                s.push(x[i])\n",
    "            elif s.size() == 0:\n",
    "                break\n",
    "            elif x[i] == \"}\" and s.last() == \"{\" :\n",
    "                s.pop()\n",
    "            elif x[i] == \"]\" and s.last() == \"[\" :\n",
    "                s.pop()\n",
    "            elif x[i] == \")\" and s.last() == \"(\" :\n",
    "                s.pop()\n",
    "            else:\n",
    "                break\n",
    "        if i == len(x)-1 and s.size() == 0:\n",
    "            print \"YES\"\n",
    "        else:\n",
    "            print \"NO\"\n",
    "                \n",
    "                \n",
    "        \n",
    "            \n",
    "i = 0\n",
    "for line in sys.stdin:\n",
    "    testLine(line.strip())\n",
    "    i += 1\n",
    "    if i == int(y):\n",
    "        break"
   ]
  },
  {
   "cell_type": "code",
   "execution_count": 16,
   "metadata": {
    "collapsed": true
   },
   "outputs": [],
   "source": [
    "del lsit[-1]"
   ]
  },
  {
   "cell_type": "code",
   "execution_count": 17,
   "metadata": {
    "collapsed": false
   },
   "outputs": [
    {
     "data": {
      "text/plain": [
       "['234', '234']"
      ]
     },
     "execution_count": 17,
     "metadata": {},
     "output_type": "execute_result"
    }
   ],
   "source": [
    "lsit"
   ]
  },
  {
   "cell_type": "code",
   "execution_count": 18,
   "metadata": {
    "collapsed": true
   },
   "outputs": [],
   "source": [
    "test=[1,2,3,4]"
   ]
  },
  {
   "cell_type": "code",
   "execution_count": 19,
   "metadata": {
    "collapsed": false
   },
   "outputs": [
    {
     "data": {
      "text/plain": [
       "4"
      ]
     },
     "execution_count": 19,
     "metadata": {},
     "output_type": "execute_result"
    }
   ],
   "source": [
    "test[-1]"
   ]
  },
  {
   "cell_type": "code",
   "execution_count": 20,
   "metadata": {
    "collapsed": true
   },
   "outputs": [],
   "source": [
    "test=[]"
   ]
  },
  {
   "cell_type": "code",
   "execution_count": 23,
   "metadata": {
    "collapsed": false
   },
   "outputs": [
    {
     "ename": "IndexError",
     "evalue": "list index out of range",
     "output_type": "error",
     "traceback": [
      "\u001b[1;31m---------------------------------------------------------------------------\u001b[0m",
      "\u001b[1;31mIndexError\u001b[0m                                Traceback (most recent call last)",
      "\u001b[1;32m<ipython-input-23-4fb581270b53>\u001b[0m in \u001b[0;36m<module>\u001b[1;34m()\u001b[0m\n\u001b[1;32m----> 1\u001b[1;33m \u001b[0mtest\u001b[0m\u001b[1;33m[\u001b[0m\u001b[1;33m-\u001b[0m\u001b[1;36m1\u001b[0m\u001b[1;33m]\u001b[0m\u001b[1;33m\u001b[0m\u001b[0m\n\u001b[0m",
      "\u001b[1;31mIndexError\u001b[0m: list index out of range"
     ]
    }
   ],
   "source": [
    "test[-1]"
   ]
  },
  {
   "cell_type": "code",
   "execution_count": null,
   "metadata": {
    "collapsed": true
   },
   "outputs": [],
   "source": []
  }
 ],
 "metadata": {
  "kernelspec": {
   "display_name": "Python 2",
   "language": "python",
   "name": "python2"
  },
  "language_info": {
   "codemirror_mode": {
    "name": "ipython",
    "version": 2
   },
   "file_extension": ".py",
   "mimetype": "text/x-python",
   "name": "python",
   "nbconvert_exporter": "python",
   "pygments_lexer": "ipython2",
   "version": "2.7.10"
  }
 },
 "nbformat": 4,
 "nbformat_minor": 0
}
