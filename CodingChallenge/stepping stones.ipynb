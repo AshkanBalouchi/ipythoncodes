{
 "cells": [
  {
   "cell_type": "markdown",
   "metadata": {},
   "source": [
    "# https://www.hackerrank.com/challenges/stepping-stones-game"
   ]
  },
  {
   "cell_type": "code",
   "execution_count": null,
   "metadata": {
    "collapsed": true
   },
   "outputs": [],
   "source": [
    "def next_block(i):\n",
    "    return \n"
   ]
  },
  {
   "cell_type": "code",
   "execution_count": 17,
   "metadata": {
    "collapsed": false
   },
   "outputs": [
    {
     "name": "stdout",
     "output_type": "stream",
     "text": [
      "no\n"
     ]
    }
   ],
   "source": [
    "n=1\n",
    "goal = 9\n",
    "while n*(n+1)/2 < goal :\n",
    "    n += 1\n",
    "if ((n)*(n+1))/2 == goal : print n\n",
    "else : print \"no\"\n"
   ]
  },
  {
   "cell_type": "code",
   "execution_count": 8,
   "metadata": {
    "collapsed": false
   },
   "outputs": [
    {
     "data": {
      "text/plain": [
       "3"
      ]
     },
     "execution_count": 8,
     "metadata": {},
     "output_type": "execute_result"
    }
   ],
   "source": [
    "n=1\n",
    "((n+1)*(n+2))/2"
   ]
  },
  {
   "cell_type": "code",
   "execution_count": 20,
   "metadata": {
    "collapsed": true
   },
   "outputs": [],
   "source": [
    "import numpy as np"
   ]
  },
  {
   "cell_type": "code",
   "execution_count": 23,
   "metadata": {
    "collapsed": false
   },
   "outputs": [
    {
     "data": {
      "text/plain": [
       "4"
      ]
     },
     "execution_count": 23,
     "metadata": {},
     "output_type": "execute_result"
    }
   ],
   "source": [
    "int(np.sqrt(18))"
   ]
  },
  {
   "cell_type": "code",
   "execution_count": 29,
   "metadata": {
    "collapsed": false
   },
   "outputs": [
    {
     "data": {
      "text/plain": [
       "True"
      ]
     },
     "execution_count": 29,
     "metadata": {},
     "output_type": "execute_result"
    }
   ],
   "source": [
    "goal=10\n",
    "s=np.sqrt(2*goal)\n",
    "int(s)*(int(s)+1)==2*goal"
   ]
  },
  {
   "cell_type": "code",
   "execution_count": null,
   "metadata": {
    "collapsed": true
   },
   "outputs": [],
   "source": [
    "# solution 1\n",
    "#The spaces Bob can reach are triangular numbers. On the Nth move he moves to\n",
    "#square N(N+1)/2. To test whether a number is valid, multiply by 2,\n",
    "#take the square root, and round down. Then compute the triangular number\n",
    "#corresponding to that step, and if it matches the original number, the\n",
    "#other computed number is the right step.\n",
    "t=input()\n",
    "for j in xrange(t):\n",
    "  n=input()\n",
    "  step=int((2*n)**0.5)\n",
    "  pos=step*(step+1)/2\n",
    "  if pos==n:\n",
    "    print \"Go On Bob \"+repr(step)\n",
    "  else:\n",
    "    print \"Better Luck Next Time\"\n",
    "​\n",
    "​\n",
    "​\n",
    "​\n",
    "​\n",
    "# solution 2\n",
    "for _ in range(input()):\n",
    "    n = input()\n",
    "​\n",
    "    x = int((n * 2) ** 0.5)\n",
    "​\n",
    "    if x * (x + 1) / 2 == n:\n",
    "        print 'Go On Bob', x\n",
    "    else:\n",
    "        print 'Better Luck Next Time'\n",
    "​\n",
    "​\n",
    "​\n",
    "​\n",
    "# solution 3\n",
    "t = int(raw_input())\n",
    "def solve(val):\n",
    "    x = int((2*val)**0.5)\n",
    "    if x*(x+1) == 2*val:\n",
    "        return x\n",
    "    else:\n",
    "        return -1\n",
    "    \n",
    "for _ in xrange(t):\n",
    "    n = int(raw_input())\n",
    "    res = solve(n)\n",
    "    print \"Go On Bob %i\" % res if res!=-1 else \"Better Luck Next Time\"\n",
    "​\n",
    "​\n",
    "​\n",
    "​\n",
    "# solution 4\n",
    "# using the solution of the equation:\n",
    "# x -> 1/2 (-1 + Sqrt[1 + 8 n])\n",
    "from math import sqrt\n",
    "def issq(n):\n",
    "    m = sqrt(n)\n",
    "    return m == int(m)\n",
    "​\n",
    "for _ in xrange(input()):\n",
    "    n = input()\n",
    "    if issq(8*n+1):\n",
    "        print \"Go On Bob\", (-1+int(sqrt(8*n+1)))/2\n",
    "    else:\n",
    "        print \"Better Luck Next Time\"\n",
    "​\n",
    "​\n",
    "# solution 5\n",
    "import sys\n",
    "​\n",
    "def calc_root2(n):\n",
    "    nsq = long(pow(n, 0.5) + 0.00001)\n",
    "    if nsq * nsq == n:\n",
    "        return nsq\n",
    "    return None\n",
    "​\n",
    "def calc_num_steps(n):\n",
    "    m = calc_root2(n * 8 + 1)\n",
    "    if m is not None:\n",
    "        m -= 1\n",
    "        if m % 2 == 0:\n",
    "            return m / 2\n",
    "​\n",
    "for _ in xrange(int(sys.stdin.readline())):\n",
    "    num_steps = calc_num_steps(int(sys.stdin.readline()))\n",
    "    if num_steps is None:\n",
    "        print \"Better Luck Next Time\"\n",
    "    else:\n",
    "        print \"Go On Bob\", num_steps\n"
   ]
  }
 ],
 "metadata": {
  "kernelspec": {
   "display_name": "Python 2",
   "language": "python",
   "name": "python2"
  },
  "language_info": {
   "codemirror_mode": {
    "name": "ipython",
    "version": 2
   },
   "file_extension": ".py",
   "mimetype": "text/x-python",
   "name": "python",
   "nbconvert_exporter": "python",
   "pygments_lexer": "ipython2",
   "version": "2.7.10"
  }
 },
 "nbformat": 4,
 "nbformat_minor": 0
}
