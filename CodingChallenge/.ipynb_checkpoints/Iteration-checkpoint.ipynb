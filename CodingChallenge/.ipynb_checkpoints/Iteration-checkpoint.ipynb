{
 "cells": [
  {
   "cell_type": "code",
   "execution_count": null,
   "metadata": {
    "collapsed": true
   },
   "outputs": [],
   "source": [
    "https://www.hackerrank.com/challenges/iterables-and-iterators"
   ]
  },
  {
   "cell_type": "code",
   "execution_count": 2,
   "metadata": {
    "collapsed": true
   },
   "outputs": [],
   "source": [
    "import math"
   ]
  },
  {
   "cell_type": "code",
   "execution_count": 5,
   "metadata": {
    "collapsed": false
   },
   "outputs": [
    {
     "data": {
      "text/plain": [
       "24"
      ]
     },
     "execution_count": 5,
     "metadata": {},
     "output_type": "execute_result"
    }
   ],
   "source": [
    "math.factorial(4)"
   ]
  },
  {
   "cell_type": "code",
   "execution_count": 6,
   "metadata": {
    "collapsed": true
   },
   "outputs": [],
   "source": [
    "def choose(n,k):\n",
    "    return (math.factorial(n)/(math.factorial(n-k)*math.factorial(k)))"
   ]
  },
  {
   "cell_type": "code",
   "execution_count": 8,
   "metadata": {
    "collapsed": false
   },
   "outputs": [
    {
     "data": {
      "text/plain": [
       "4"
      ]
     },
     "execution_count": 8,
     "metadata": {},
     "output_type": "execute_result"
    }
   ],
   "source": [
    "choose(4,1)"
   ]
  },
  {
   "cell_type": "code",
   "execution_count": null,
   "metadata": {
    "collapsed": true
   },
   "outputs": [],
   "source": [
    "num1=[in(inp) for inp in raw_input().split()]"
   ]
  },
  {
   "cell_type": "code",
   "execution_count": 15,
   "metadata": {
    "collapsed": false
   },
   "outputs": [
    {
     "name": "stdout",
     "output_type": "stream",
     "text": [
      "4\n",
      "a a b c\n",
      "2\n",
      "0.833333333333\n"
     ]
    }
   ],
   "source": [
    "n=int(raw_input())\n",
    "\n",
    "charlist=[inp for inp in raw_input().split()]\n",
    "\n",
    "k=int(raw_input())\n",
    "\n",
    "num_a=0\n",
    "\n",
    "for char in charlist : \n",
    "    if char==\"a\" : num_a += 1\n",
    "\n",
    "if n-num_a < k : print \"1.00\"\n",
    "else:\n",
    "    print 1-float(choose(n-num_a,k))/choose(n,k)"
   ]
  },
  {
   "cell_type": "code",
   "execution_count": 10,
   "metadata": {
    "collapsed": false
   },
   "outputs": [
    {
     "data": {
      "text/plain": [
       "['a', 'a', 'b', 'c']"
      ]
     },
     "execution_count": 10,
     "metadata": {},
     "output_type": "execute_result"
    }
   ],
   "source": [
    "charlist"
   ]
  },
  {
   "cell_type": "code",
   "execution_count": null,
   "metadata": {
    "collapsed": true
   },
   "outputs": [],
   "source": [
    "import math\n",
    "\n",
    "def choose(n,k):\n",
    "    return (math.factorial(n)/(math.factorial(n-k)*math.factorial(k)))\n",
    "\n",
    "n=int(raw_input())\n",
    "charlist=[raw_input().split()]\n",
    "k=int(raw_input())\n",
    "\n",
    "num_a=0\n",
    "for char in charlist : \n",
    "    if char==\"a\" : num_a += 1\n",
    "\n",
    "if n-num_a < k : print 1\n",
    "else:\n",
    "    print 1-float(choose(n-num_a,k))/choose(n,k)"
   ]
  },
  {
   "cell_type": "code",
   "execution_count": null,
   "metadata": {
    "collapsed": true
   },
   "outputs": [],
   "source": [
    "#solution 1 (concise and easy to read)\n",
    "from itertools import combinations \n",
    "\n",
    "N = int(input())\n",
    "S = raw_input().split(' ')\n",
    "K = int(input())\n",
    "\n",
    "num = 0\n",
    "den = 0\n",
    "\n",
    "for c in combinations(S,K):\n",
    "    den+=1\n",
    "    num+='a' in c\n",
    "\n",
    "print float(num)/den\n",
    "\n",
    "\n",
    "\n",
    "#solution 2\n",
    "import sys\n",
    "from itertools import combinations\n",
    "n = int(sys.stdin.readline().strip())\n",
    "chars = map(str, sys.stdin.readline().strip().split())\n",
    "k = int(sys.stdin.readline().strip())\n",
    "\n",
    "combs = list(combinations(chars, k))\n",
    "\n",
    "p = sum([1 for i in combs if 'a' in i])\n",
    "q = sum([1 for i in combs])\n",
    "\n",
    "print float(p)/float(q)\n",
    "\n",
    "\n",
    "\n",
    "#solution 3 (user doesn't know itertools.combinations)\n",
    "from math import factorial\n",
    "\n",
    "def comb(n, r):\n",
    "    return factorial(n) /( factorial(r) * factorial(n-r))\n",
    "\n",
    "N = int(input())\n",
    "letters = raw_input().replace(' ','')\n",
    "K = int(input())\n",
    "numA = letters.count('a')\n",
    "if len(letters) - numA < K:\n",
    "    print 1\n",
    "elif numA == 0:\n",
    "    print 0\n",
    "else:\n",
    "    print 1 - comb(len(letters)-numA,K)*1.0/comb(len(letters),K)\n",
    "\n",
    "\n",
    "#solution 4 (correct, but hard to read)\n",
    "from __future__ import division\n",
    "import itertools\n",
    "raw_input()\n",
    "n, d = map(sum,\n",
    "           zip(*((1 if 'a' in t else 0, 1)\n",
    "            for t in itertools.combinations(raw_input().replace(' ', ''),\n",
    "                                            int(raw_input())))))\n",
    "print n/d"
   ]
  }
 ],
 "metadata": {
  "kernelspec": {
   "display_name": "Python 2",
   "language": "python",
   "name": "python2"
  },
  "language_info": {
   "codemirror_mode": {
    "name": "ipython",
    "version": 2
   },
   "file_extension": ".py",
   "mimetype": "text/x-python",
   "name": "python",
   "nbconvert_exporter": "python",
   "pygments_lexer": "ipython2",
   "version": "2.7.10"
  }
 },
 "nbformat": 4,
 "nbformat_minor": 0
}
