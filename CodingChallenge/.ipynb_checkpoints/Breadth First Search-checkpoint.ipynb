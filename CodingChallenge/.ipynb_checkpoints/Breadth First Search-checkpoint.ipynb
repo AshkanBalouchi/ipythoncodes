{
 "cells": [
  {
   "cell_type": "markdown",
   "metadata": {},
   "source": [
    "#Breadth First Search: Shortest Reach\n",
    "##https://www.hackerrank.com/challenges/bfsshortreach\n"
   ]
  },
  {
   "cell_type": "code",
   "execution_count": null,
   "metadata": {
    "collapsed": true
   },
   "outputs": [],
   "source": [
    "def find_distance(V, nv, start):\n",
    "    distance = [-1 for i in xrange(nv)]\n",
    "    visited = [False for i in xrange(nv)]\n",
    "    \n",
    "    queue = [start]\n",
    "    distance[start] = 0\n",
    "    while queue:\n",
    "        if not visited[queue[0]]:\n",
    "            for i in V[queue[0]]:\n",
    "                if distance[i] == -1:\n",
    "                    distance[i] = distance[queue[0]] + 6\n",
    "                else:\n",
    "                    distance[i] = min(distance[i], distance[queue[0]] + 6)\n",
    "                queue.append(i)\n",
    "            visited[queue[0]] = True\n",
    "        del queue[0]\n",
    "    \n",
    "    del distance[start]\n",
    "    \n",
    "    print \" \".join([str(d) for d in distance])\n",
    "\n",
    "for i in xrange(int(raw_input())):\n",
    "    nv,ne = map(int, raw_input().split())\n",
    "    \n",
    "    vertices = [set() for i in xrange(nv)]\n",
    "    \n",
    "    for e in xrange(ne):\n",
    "        u,v = map(int, raw_input().split())\n",
    "        vertices[u-1].add(v-1)\n",
    "        vertices[v-1].add(u-1)\n",
    "    \n",
    "    start = int(raw_input())\n",
    "    \n",
    "    find_distance(vertices, nv, start-1)"
   ]
  }
 ],
 "metadata": {
  "kernelspec": {
   "display_name": "Python 2",
   "language": "python",
   "name": "python2"
  },
  "language_info": {
   "codemirror_mode": {
    "name": "ipython",
    "version": 2
   },
   "file_extension": ".py",
   "mimetype": "text/x-python",
   "name": "python",
   "nbconvert_exporter": "python",
   "pygments_lexer": "ipython2",
   "version": "2.7.10"
  }
 },
 "nbformat": 4,
 "nbformat_minor": 0
}
