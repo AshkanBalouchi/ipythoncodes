{
 "cells": [
  {
   "cell_type": "code",
   "execution_count": 13,
   "metadata": {
    "collapsed": false
   },
   "outputs": [
    {
     "name": "stdout",
     "output_type": "stream",
     "text": [
      "asd\n",
      "absdqwwqe\n",
      "1 2\n"
     ]
    }
   ],
   "source": [
    "import numpy as np\n",
    "\n",
    "# reading the inputs\n",
    "str1 = raw_input()\n",
    "str2 = raw_input()\n",
    "\n",
    "list1=list(str1)\n",
    "list2=list(str2)\n",
    "\n",
    "l = min(len(list1),len(list2))\n",
    "\n",
    "n1=0\n",
    "n2=0\n",
    "n1pos = [] #n1pos keeps track of the letter instance which be counted in n1\n",
    "\n",
    "for i in range(l) :\n",
    "    if list1[i] == list2[i] :\n",
    "        n1 += 1\n",
    "        n1pos.append(i)\n",
    "        \n",
    "newlist1=np.delete(list1,n1pos) #this way we delete the character which are alreadye counted in n1\n",
    "newlist2=np.delete(list2,n1pos)\n",
    "\n",
    "for char in newlist1:\n",
    "    for i in range(len(newlist2)) :\n",
    "        if char == newlist2[i] :\n",
    "            n2 += 1\n",
    "            newlist2 = np.delete(newlist2,(i))\n",
    "            break  #This way we guarantee that each Char would only be counted once! and the uotput would be the same if the two string swapped\n",
    "        \n",
    "\n",
    "print n1 , n2"
   ]
  },
  {
   "cell_type": "markdown",
   "metadata": {},
   "source": [
    "Write a program (in a language of your choice) that takes two strings as input and outputs two numbers, n1 and n2.\n",
    "The output values indicate a degree of matching between the two strings:\n",
    "\n",
    "n1 : number of letters in one string that each match in value and \n",
    "     in position to a letter in the other string.\n",
    "\n",
    "n2 : number of letters in one string that each match in value, \n",
    "     but not in position to a letter in the other string.\n",
    "\n",
    "Some notes:\n",
    "   * the output should be the same if the two strings were swapped\n",
    "   * each letter instance in a string may only participate in one match.\n",
    "   * if a letter instance can participate in either n1 or n2, it is to be counted towards n1.\n",
    "   * the two strings may or may not be of the same length.\n",
    "\n",
    "Some examples (str1, str2 -> n1,n2):\n",
    "\n",
    "  \"abc\", \"abc\" -> 3,0\n",
    "  \"bca\", \"abc\" -> 0,3\n",
    "  \"aab\", \"abb\" -> 2,0\n",
    "  \"aab\", \"aba\" -> 1,2\n",
    "  \"abc\", \"aaa\" -> 1,0\n",
    "\n",
    "Please take your time, and submit production grade code. We're looking for quality and professionalism, not just speed.\n",
    "\n",
    "It's perfectly OK to work out the solution in an IDE, and paste into the solution windows after fully debugging."
   ]
  },
  {
   "cell_type": "code",
   "execution_count": null,
   "metadata": {
    "collapsed": true
   },
   "outputs": [],
   "source": []
  }
 ],
 "metadata": {
  "kernelspec": {
   "display_name": "Python 2",
   "language": "python",
   "name": "python2"
  },
  "language_info": {
   "codemirror_mode": {
    "name": "ipython",
    "version": 2
   },
   "file_extension": ".py",
   "mimetype": "text/x-python",
   "name": "python",
   "nbconvert_exporter": "python",
   "pygments_lexer": "ipython2",
   "version": "2.7.11"
  }
 },
 "nbformat": 4,
 "nbformat_minor": 0
}
