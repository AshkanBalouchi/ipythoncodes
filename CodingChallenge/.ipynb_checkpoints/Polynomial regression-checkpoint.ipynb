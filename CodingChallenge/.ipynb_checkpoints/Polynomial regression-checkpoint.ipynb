{
 "cells": [
  {
   "cell_type": "markdown",
   "metadata": {},
   "source": [
    "#Polynomial regression:\n",
    "## https://www.hackerrank.com/challenges/predicting-office-space-price"
   ]
  },
  {
   "cell_type": "code",
   "execution_count": null,
   "metadata": {
    "collapsed": true
   },
   "outputs": [],
   "source": [
    "from sklearn.preprocessing import PolynomialFeatures\n",
    "from sklearn.pipeline import Pipeline\n",
    "from sklearn.linear_model import LinearRegression\n",
    "from sklearn import linear_model\n",
    "import numpy as np\n",
    "f,n = map(int,raw_input().split())\n",
    "model = Pipeline([('poly',PolynomialFeatures(degree=3)),\n",
    "                 ('linear',LinearRegression(fit_intercept=False))])\n",
    "mat_X = []\n",
    "mat_Y = []\n",
    "for i in xrange(0,n):\n",
    "    temp = []\n",
    "    temp = map(float,raw_input().split())\n",
    "    mat_X.append(temp[:-1])\n",
    "    mat_Y.append(temp[-1:])\n",
    "​\n",
    "model = model.fit(mat_X,mat_Y)\n",
    "​\n",
    "n = int(raw_input())\n",
    "X = []\n",
    "for i in xrange(0,n):\n",
    "    temp = []\n",
    "    temp = map(float,raw_input().split())\n",
    "    X.append(temp)\n",
    "    \n",
    "l = model.predict(X)\n",
    "for i in l:\n",
    "    print i[0]\n",
    "​\n",
    "# Making polynomial features manually\n",
    "import numpy as np\n",
    "from sklearn.linear_model import LinearRegression\n",
    "from itertools import combinations_with_replacement as comb\n",
    "from operator import mul\n",
    "​\n",
    "def solve(train_data, test_data):\n",
    "    def prod(x): return reduce(mul, x)\n",
    "    def poly(x): return map(prod, comb([1.0] + x, 3))\n",
    "    X_train = np.array([poly(row[:-1]) for row in train_data])\n",
    "    y_train = np.array([row[-1] for row in train_data])\n",
    "    X_test = np.array([poly(row) for row in test_data])\n",
    "    return LinearRegression().fit(X_train, y_train).predict(X_test)\n",
    "​\n",
    "def main():\n",
    "    def read_ints(): return map(int, raw_input().split())\n",
    "    def read_nums(): return map(float, raw_input().split())\n",
    "    _f, n = read_ints()\n",
    "    train_data = [read_nums() for _ in xrange(n)]\n",
    "    test_data = [read_nums() for _ in xrange(input())]\n",
    "    prices = solve(train_data, test_data)\n",
    "    for p in prices:\n",
    "        print '{:.2f}'.format(p)\n",
    "main()"
   ]
  }
 ],
 "metadata": {
  "kernelspec": {
   "display_name": "Python 2",
   "language": "python",
   "name": "python2"
  },
  "language_info": {
   "codemirror_mode": {
    "name": "ipython",
    "version": 2
   },
   "file_extension": ".py",
   "mimetype": "text/x-python",
   "name": "python",
   "nbconvert_exporter": "python",
   "pygments_lexer": "ipython2",
   "version": "2.7.10"
  }
 },
 "nbformat": 4,
 "nbformat_minor": 0
}
