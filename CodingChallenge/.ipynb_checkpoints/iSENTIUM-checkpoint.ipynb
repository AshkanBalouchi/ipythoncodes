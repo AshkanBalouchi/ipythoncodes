{
 "cells": [
  {
   "cell_type": "code",
   "execution_count": 80,
   "metadata": {
    "collapsed": false
   },
   "outputs": [
    {
     "name": "stdout",
     "output_type": "stream",
     "text": [
      "aaa\n",
      "abc\n",
      "['a' 'a']\n",
      "['b' 'c']\n",
      "1\n",
      "0\n"
     ]
    }
   ],
   "source": [
    "import numpy as np\n",
    "str1=raw_input()\n",
    "str2=raw_input()\n",
    "list1=list(str1)\n",
    "list2=list(str2)\n",
    "l1=len(list1)\n",
    "l2=len(list2)\n",
    "l=min(l1,l2)\n",
    "n1pos=[]\n",
    "n1=0\n",
    "n2=0\n",
    "for i in range(l):\n",
    "    if list1[i]==list2[i] : \n",
    "        n1 += 1\n",
    "        n1pos.append(i)\n",
    "\n",
    "newlist1=np.delete(list1,n1pos)\n",
    "newlist2=np.delete(list2,n1pos)\n",
    "\n",
    "print newlist1\n",
    "print newlist2\n",
    "\n",
    "for char in newlist1:\n",
    "    for i in range(len(newlist2)) :\n",
    "        if char == newlist2[i]:\n",
    "            n2 += 1\n",
    "            #del(newlist1,char)\n",
    "            newlist2=np.delete(newlist2,(i))\n",
    "            print newlist2\n",
    "            break\n",
    "    #n2 += char in newlist2 \n",
    "\n",
    "\n",
    "#for i in range(len(n1pos)):\n",
    "#    del list1[i]\n",
    "#    del list2[i]\n",
    "\n",
    "print n1\n",
    "print n2"
   ]
  },
  {
   "cell_type": "code",
   "execution_count": 39,
   "metadata": {
    "collapsed": false
   },
   "outputs": [
    {
     "data": {
      "text/plain": [
       "[0, 1, 2]"
      ]
     },
     "execution_count": 39,
     "metadata": {},
     "output_type": "execute_result"
    }
   ],
   "source": [
    "n1pos"
   ]
  },
  {
   "cell_type": "code",
   "execution_count": 42,
   "metadata": {
    "collapsed": false
   },
   "outputs": [],
   "source": [
    "\n",
    "abbbccc\n",
    "abbbccc"
   ]
  },
  {
   "cell_type": "code",
   "execution_count": 43,
   "metadata": {
    "collapsed": false
   },
   "outputs": [
    {
     "data": {
      "text/plain": [
       "array(['f'], \n",
       "      dtype='|S1')"
      ]
     },
     "execution_count": 43,
     "metadata": {},
     "output_type": "execute_result"
    }
   ],
   "source": [
    "l1"
   ]
  },
  {
   "cell_type": "code",
   "execution_count": 8,
   "metadata": {
    "collapsed": false
   },
   "outputs": [
    {
     "name": "stdout",
     "output_type": "stream",
     "text": [
      "a\n",
      "b\n",
      "c\n"
     ]
    }
   ],
   "source": [
    "for i in range(len(str1)):\n",
    "    print str1[i]"
   ]
  },
  {
   "cell_type": "code",
   "execution_count": 21,
   "metadata": {
    "collapsed": false
   },
   "outputs": [],
   "source": [
    "str1='asd'\n",
    "list1=list(str1)"
   ]
  },
  {
   "cell_type": "code",
   "execution_count": 22,
   "metadata": {
    "collapsed": false
   },
   "outputs": [
    {
     "data": {
      "text/plain": [
       "['a', 's', 'd']"
      ]
     },
     "execution_count": 22,
     "metadata": {},
     "output_type": "execute_result"
    }
   ],
   "source": [
    "list1"
   ]
  },
  {
   "cell_type": "code",
   "execution_count": null,
   "metadata": {
    "collapsed": true
   },
   "outputs": [],
   "source": []
  }
 ],
 "metadata": {
  "kernelspec": {
   "display_name": "Python 2",
   "language": "python",
   "name": "python2"
  },
  "language_info": {
   "codemirror_mode": {
    "name": "ipython",
    "version": 2
   },
   "file_extension": ".py",
   "mimetype": "text/x-python",
   "name": "python",
   "nbconvert_exporter": "python",
   "pygments_lexer": "ipython2",
   "version": "2.7.11"
  }
 },
 "nbformat": 4,
 "nbformat_minor": 0
}
