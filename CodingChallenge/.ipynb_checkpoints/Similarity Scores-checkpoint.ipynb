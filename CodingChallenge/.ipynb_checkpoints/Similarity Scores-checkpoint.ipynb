{
 "cells": [
  {
   "cell_type": "markdown",
   "metadata": {},
   "source": [
    "#Similarity Scores\n",
    "##https://www.hackerrank.com/challenges/nlp-similarity-scores"
   ]
  },
  {
   "cell_type": "code",
   "execution_count": null,
   "metadata": {
    "collapsed": true
   },
   "outputs": [],
   "source": [
    " import math\n",
    "    d1 = \"I d like an apple\"\n",
    "    d2 = \"An apple a day keeps the doctor away\"\n",
    "    d3 = \"Never compare an apple to an orange\"\n",
    "    d4 = \"I prefer scikit learn to orange\"\n",
    "\n",
    "    docs = [d1, d2, d3, d4]\n",
    "    tfidf = [0,0,0,0]\n",
    "    for dx in range(4):\n",
    "        for word in docs[dx].split():\n",
    "            d = 0\n",
    "            for doc in docs[:dx] + docs[dx+1:]:\n",
    "                if word in doc:\n",
    "                    d += 1\n",
    "            tfidf[dx]+= math.log(4/(1+d))\n",
    "        \n",
    "    ans = [abs(num - tfidf[0]) for num in tfidf]\n",
    "    print ans.index(min(ans[1:]))+1"
   ]
  }
 ],
 "metadata": {
  "kernelspec": {
   "display_name": "Python 2",
   "language": "python",
   "name": "python2"
  },
  "language_info": {
   "codemirror_mode": {
    "name": "ipython",
    "version": 2
   },
   "file_extension": ".py",
   "mimetype": "text/x-python",
   "name": "python",
   "nbconvert_exporter": "python",
   "pygments_lexer": "ipython2",
   "version": "2.7.10"
  }
 },
 "nbformat": 4,
 "nbformat_minor": 0
}
