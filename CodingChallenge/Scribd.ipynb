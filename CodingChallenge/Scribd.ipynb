{
 "cells": [
  {
   "cell_type": "code",
   "execution_count": null,
   "metadata": {
    "collapsed": true
   },
   "outputs": [],
   "source": [
    "def compress (str1) :\n",
    "    \n",
    "    str_out=\"\" \n",
    "    c = \"\" #character buffer\n",
    "    n = 1  #count buffer\n",
    "    str_list=list(str1)\n",
    "    for i in range(len(str_list)-1):\n",
    "        c = str_list[i]\n",
    "        if str_list[i+1] == str_list[i] :\n",
    "            n += 1\n",
    "        else : \n",
    "            str_out = str_out + str(n) + c\n",
    "            n = 1\n",
    "    c = str_list[len(str_list)-1]\n",
    "\n",
    "    str_out = str_out + str(n) + c\n",
    "\n",
    "    return str_out\n",
    "\n",
    "\n",
    "print compress ('AABBCCDDAAA')"
   ]
  }
 ],
 "metadata": {
  "kernelspec": {
   "display_name": "Python 2",
   "language": "python",
   "name": "python2"
  },
  "language_info": {
   "codemirror_mode": {
    "name": "ipython",
    "version": 2
   },
   "file_extension": ".py",
   "mimetype": "text/x-python",
   "name": "python",
   "nbconvert_exporter": "python",
   "pygments_lexer": "ipython2",
   "version": "2.7.11"
  }
 },
 "nbformat": 4,
 "nbformat_minor": 0
}
