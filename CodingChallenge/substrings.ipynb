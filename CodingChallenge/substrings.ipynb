{
 "cells": [
  {
   "cell_type": "code",
   "execution_count": 134,
   "metadata": {
    "collapsed": false
   },
   "outputs": [
    {
     "name": "stdout",
     "output_type": "stream",
     "text": [
      "['', '', 'a', 'a', 'a', 'a', 'aa', 'aa', 'a', 'a', 'aa', 'aa', 'aa', 'aa', 'aaa', 'aaa']\n"
     ]
    },
    {
     "data": {
      "text/plain": [
       "3"
      ]
     },
     "execution_count": 134,
     "metadata": {},
     "output_type": "execute_result"
    }
   ],
   "source": [
    "def is_square(string):\n",
    "    if len(string)%2==0:\n",
    "        string1=string[0:len(string)/2]\n",
    "        if string == string1*2 : return 1\n",
    "    return 0\n",
    "\n",
    "def sub(word):\n",
    "    sub_list=[]\n",
    "    for i in range(2**(len(word)+1)):\n",
    "        bin_lenght=len(bin(2**len(word))[2:])\n",
    "        possible = bin(i)[2:].zfill(bin_lenght)\n",
    "        sub_word=\"\"\n",
    "        for i in range(len(word)) : \n",
    "            if possible[i]=='1' : sub_word = sub_word+word[i]\n",
    "        sub_list.append(sub_word)\n",
    "    return sub_list \n",
    "\n",
    "word='aaa'\n",
    "sub_list = sub(word)\n",
    "print sub_list\n",
    "#for anyword in sub_list :\n",
    "#    print is_square(anyword)\n",
    "sum(is_square(anyword) for anyword in sub_list)/2-1"
   ]
  },
  {
   "cell_type": "code",
   "execution_count": 13,
   "metadata": {
    "collapsed": false
   },
   "outputs": [
    {
     "data": {
      "text/plain": [
       "True"
      ]
     },
     "execution_count": 13,
     "metadata": {},
     "output_type": "execute_result"
    }
   ],
   "source": [
    "is_square('hi hi ')\n"
   ]
  },
  {
   "cell_type": "code",
   "execution_count": 124,
   "metadata": {
    "collapsed": false
   },
   "outputs": [],
   "source": [
    "def sub(word):\n",
    "    sub_list=[]\n",
    "    for i in range(2**(len(word)+1)):\n",
    "        bin_lenght=len(bin(2**len(word))[2:])\n",
    "        possible = bin(i)[2:].zfill(bin_lenght)\n",
    "        sub_word=\"\"\n",
    "        for i in range(len(word)) : \n",
    "            if possible[i]=='1' : sub_word = sub_word+word[i]\n",
    "        sub_list.append(sub_word)\n",
    "    return sub_list \n",
    "        #print sub_word\n",
    "        #print possible\n",
    "    "
   ]
  },
  {
   "cell_type": "code",
   "execution_count": 125,
   "metadata": {
    "collapsed": false
   },
   "outputs": [
    {
     "data": {
      "text/plain": [
       "['',\n",
       " '',\n",
       " 'l',\n",
       " 'l',\n",
       " 'i',\n",
       " 'i',\n",
       " 'il',\n",
       " 'il',\n",
       " 'h',\n",
       " 'h',\n",
       " 'hl',\n",
       " 'hl',\n",
       " 'hi',\n",
       " 'hi',\n",
       " 'hil',\n",
       " 'hil']"
      ]
     },
     "execution_count": 125,
     "metadata": {},
     "output_type": "execute_result"
    }
   ],
   "source": [
    "sub('hil')"
   ]
  },
  {
   "cell_type": "code",
   "execution_count": 69,
   "metadata": {
    "collapsed": false
   },
   "outputs": [
    {
     "data": {
      "text/plain": [
       "3"
      ]
     },
     "execution_count": 69,
     "metadata": {},
     "output_type": "execute_result"
    }
   ],
   "source": [
    "word='hin'\n",
    "len(word)"
   ]
  },
  {
   "cell_type": "code",
   "execution_count": 36,
   "metadata": {
    "collapsed": false
   },
   "outputs": [
    {
     "name": "stdout",
     "output_type": "stream",
     "text": [
      "0\n"
     ]
    }
   ],
   "source": [
    "inputA = 8  # define binary sequence inputA\n",
    "inputB = 2   # define binary sequence inputB\n",
    " \n",
    "print bin(inputA & inputB)[2:]"
   ]
  },
  {
   "cell_type": "code",
   "execution_count": 64,
   "metadata": {
    "collapsed": false
   },
   "outputs": [
    {
     "data": {
      "text/plain": [
       "3"
      ]
     },
     "execution_count": 64,
     "metadata": {},
     "output_type": "execute_result"
    }
   ],
   "source": [
    "len(bin(len(word))[2:])"
   ]
  },
  {
   "cell_type": "code",
   "execution_count": 65,
   "metadata": {
    "collapsed": false
   },
   "outputs": [
    {
     "data": {
      "text/plain": [
       "'001'"
      ]
     },
     "execution_count": 65,
     "metadata": {},
     "output_type": "execute_result"
    }
   ],
   "source": [
    "word='gooo'\n",
    "bin(len('h'))[2:].zfill(len(bin(len(word))[2:]))"
   ]
  },
  {
   "cell_type": "code",
   "execution_count": null,
   "metadata": {
    "collapsed": true
   },
   "outputs": [],
   "source": []
  }
 ],
 "metadata": {
  "kernelspec": {
   "display_name": "Python 2",
   "language": "python",
   "name": "python2"
  },
  "language_info": {
   "codemirror_mode": {
    "name": "ipython",
    "version": 2
   },
   "file_extension": ".py",
   "mimetype": "text/x-python",
   "name": "python",
   "nbconvert_exporter": "python",
   "pygments_lexer": "ipython2",
   "version": "2.7.10"
  }
 },
 "nbformat": 4,
 "nbformat_minor": 0
}
