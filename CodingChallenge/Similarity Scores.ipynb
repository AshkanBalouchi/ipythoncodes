{
 "cells": [
  {
   "cell_type": "markdown",
   "metadata": {},
   "source": [
    "#Similarity Scores\n",
    "##https://www.hackerrank.com/challenges/nlp-similarity-scores"
   ]
  },
  {
   "cell_type": "code",
   "execution_count": 3,
   "metadata": {
    "collapsed": false
   },
   "outputs": [
    {
     "name": "stdout",
     "output_type": "stream",
     "text": [
      "3\n"
     ]
    }
   ],
   "source": [
    "import math\n",
    "d1 = \"I d like an apple\"\n",
    "d2 = \"An apple a day keeps the doctor away\"\n",
    "d3 = \"Never compare an apple to an orange\"\n",
    "d4 = \"I prefer scikit learn to orange\"\n",
    "\n",
    "docs = [d1, d2, d3, d4]\n",
    "tfidf = [0,0,0,0]\n",
    "for dx in range(4):\n",
    "    for word in docs[dx].split():\n",
    "        d = 0\n",
    "        for doc in docs[:dx] + docs[dx+1:]:\n",
    "            if word in doc:\n",
    "                d += 1\n",
    "        tfidf[dx]+= math.log(4/(1+d))\n",
    "        \n",
    "ans = [abs(num - tfidf[0]) for num in tfidf]\n",
    "print ans.index(min(ans[1:]))+1"
   ]
  },
  {
   "cell_type": "code",
   "execution_count": 4,
   "metadata": {
    "collapsed": false
   },
   "outputs": [
    {
     "data": {
      "text/plain": [
       "['I d like an apple',\n",
       " 'An apple a day keeps the doctor away',\n",
       " 'Never compare an apple to an orange',\n",
       " 'I prefer scikit learn to orange']"
      ]
     },
     "execution_count": 4,
     "metadata": {},
     "output_type": "execute_result"
    }
   ],
   "source": [
    "docs"
   ]
  },
  {
   "cell_type": "code",
   "execution_count": 5,
   "metadata": {
    "collapsed": false
   },
   "outputs": [
    {
     "data": {
      "text/plain": [
       "['I', 'd', 'like', 'an', 'apple']"
      ]
     },
     "execution_count": 5,
     "metadata": {},
     "output_type": "execute_result"
    }
   ],
   "source": [
    "docs[0].split()"
   ]
  },
  {
   "cell_type": "code",
   "execution_count": 7,
   "metadata": {
    "collapsed": false
   },
   "outputs": [
    {
     "data": {
      "text/plain": [
       "['hello', 'u']"
      ]
     },
     "execution_count": 7,
     "metadata": {},
     "output_type": "execute_result"
    }
   ],
   "source": [
    "'hello u'.split()"
   ]
  },
  {
   "cell_type": "code",
   "execution_count": null,
   "metadata": {
    "collapsed": true
   },
   "outputs": [],
   "source": []
  }
 ],
 "metadata": {
  "kernelspec": {
   "display_name": "Python 2",
   "language": "python",
   "name": "python2"
  },
  "language_info": {
   "codemirror_mode": {
    "name": "ipython",
    "version": 2
   },
   "file_extension": ".py",
   "mimetype": "text/x-python",
   "name": "python",
   "nbconvert_exporter": "python",
   "pygments_lexer": "ipython2",
   "version": "2.7.11"
  }
 },
 "nbformat": 4,
 "nbformat_minor": 0
}
